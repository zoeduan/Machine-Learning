{
 "cells": [
  {
   "cell_type": "markdown",
   "metadata": {},
   "source": [
    "# I. Introduction\n",
    "\n",
    "In this assignmnt, I mainly review the four classification models, pocke, qda, lda and logistic regression, and based on what we have learnt in machine learning class, I give the model implementations and use dataset from UCI to test the models. "
   ]
  },
  {
   "cell_type": "markdown",
   "metadata": {},
   "source": [
    "# II. Data\n",
    "\n",
    "Introduce your data and visualize them. Describe your observations about the data.\n",
    "You can reuse the data that you examined in Assignment #0 (of course for classification). "
   ]
  },
  {
   "cell_type": "markdown",
   "metadata": {},
   "source": [
    "## Introduce data"
   ]
  },
  {
   "cell_type": "markdown",
   "metadata": {},
   "source": [
    "Source of the data\n",
    "UCI Machine Learning Repository:\n",
    "Adult Data Set\n",
    "https://archive.ics.uci.edu/ml/datasets/Adult\n",
    "\n",
    "Number of Instances: 32561\n",
    "\n",
    "Number of Attributes: 14\n",
    "\n",
    "Attribute Characteristics: Categorical, Integer\n",
    "\n",
    "Associated Tasks: Classification\n",
    "\n",
    "Listing of attributes: \n",
    "\n",
    "- more than 50K, less or equal to 50K. \n",
    "- age: continuous. \n",
    "- workclass: Private, Self-emp-not-inc, Self-emp-inc, Federal-gov, Local-gov, State-gov, Without-pay, Never-worked. \n",
    "- fnlwgt: continuous. \n",
    "- education: Bachelors, Some-college, 11th, HS-grad, Prof-school, Assoc-acdm, Assoc-voc, 9th, 7th-8th, 12th, Masters, 1st-4th, 10th, Doctorate, 5th-6th, Preschool. \n",
    "- education-num: continuous. \n",
    "- marital-status: Married-civ-spouse, Divorced, Never-married, Separated, Widowed, Married-spouse-absent, Married-AF-spouse. \n",
    "- occupation: Tech-support, Craft-repair, Other-service, Sales, Exec-managerial, Prof-specialty, Handlers-cleaners, Machine-op-inspct, Adm-clerical, Farming-fishing, Transport-moving, Priv-house-serv, Protective-serv, Armed-Forces. \n",
    "- relationship: Wife, Own-child, Husband, Not-in-family, Other-relative, Unmarried. \n",
    "- race: White, Asian-Pac-Islander, Amer-Indian-Eskimo, Other, Black. \n",
    "- sex: Female, Male. \n",
    "- capital-gain: continuous. \n",
    "- capital-loss: continuous. \n",
    "- hours-per-week: continuous. \n",
    "- native-country: United-States, Cambodia, England, Puerto-Rico, Canada, Germany, Outlying-US(Guam-USVI-etc), India, Japan, Greece, South, China, Cuba, Iran, Honduras, Philippines, Italy, Poland, Jamaica, Vietnam, Mexico, Portugal, Ireland, France, Dominican-Republic, Laos, Ecuador, Taiwan, Haiti, Columbia, Hungary, Guatemala, Nicaragua, Scotland, Thailand, Yugoslavia, El-Salvador, Trinadad&Tobago, Peru, Hong, Holand-Netherlands.\n",
    "\n",
    "\n"
   ]
  },
  {
   "cell_type": "markdown",
   "metadata": {},
   "source": [
    "## Reading the data"
   ]
  },
  {
   "cell_type": "code",
   "execution_count": 1,
   "metadata": {},
   "outputs": [],
   "source": [
    "import numpy as np\n",
    "import pandas as pd\n",
    "import seaborn as sns\n",
    "import matplotlib.pyplot as plt\n",
    "%matplotlib inline"
   ]
  },
  {
   "cell_type": "code",
   "execution_count": 2,
   "metadata": {},
   "outputs": [
    {
     "name": "stdout",
     "output_type": "stream",
     "text": [
      "<class 'pandas.core.frame.DataFrame'>\n",
      "RangeIndex: 32561 entries, 0 to 32560\n",
      "Data columns (total 15 columns):\n",
      "age                 32561 non-null int64\n",
      "workclass           32561 non-null object\n",
      "fnlwgt              32561 non-null int64\n",
      "education           32561 non-null object\n",
      "education-number    32561 non-null int64\n",
      "marital-status      32561 non-null object\n",
      "occupation          32561 non-null object\n",
      "relationship        32561 non-null object\n",
      "race                32561 non-null object\n",
      "sex                 32561 non-null object\n",
      "capital-gain        32561 non-null int64\n",
      "capital-loss        32561 non-null int64\n",
      "hours-per-week      32561 non-null int64\n",
      "native-country      32561 non-null object\n",
      "Class               32561 non-null object\n",
      "dtypes: int64(6), object(9)\n",
      "memory usage: 3.7+ MB\n"
     ]
    },
    {
     "data": {
      "text/plain": [
       "['age',\n",
       " 'workclass',\n",
       " 'fnlwgt',\n",
       " 'education',\n",
       " 'education-number',\n",
       " 'marital-status',\n",
       " 'occupation',\n",
       " 'relationship',\n",
       " 'race',\n",
       " 'sex',\n",
       " 'capital-gain',\n",
       " 'capital-loss',\n",
       " 'hours-per-week',\n",
       " 'native-country',\n",
       " 'Class']"
      ]
     },
     "execution_count": 2,
     "metadata": {},
     "output_type": "execute_result"
    }
   ],
   "source": [
    "# Read the data and assign the column names.\n",
    "df = pd.read_csv(\"adult.csv\", names = [\"age\", \"workclass\", \"fnlwgt\", \"education\",\"education-number\", \"marital-status\", \"occupation\", \"relationship\", \"race\", \"sex\", \"capital-gain\", \"capital-loss\",\"hours-per-week\", \"native-country\", \"Class\"  ])          \n",
    "df.info()\n",
    "df.describe()\n",
    "list(df.columns.values)\n",
    "#df.head()"
   ]
  },
  {
   "cell_type": "markdown",
   "metadata": {},
   "source": [
    "## Preprocessing of the data"
   ]
  },
  {
   "cell_type": "code",
   "execution_count": 3,
   "metadata": {},
   "outputs": [
    {
     "name": "stdout",
     "output_type": "stream",
     "text": [
      "age                 0.0\n",
      "workclass           0.0\n",
      "fnlwgt              0.0\n",
      "education           0.0\n",
      "education-number    0.0\n",
      "marital-status      0.0\n",
      "occupation          0.0\n",
      "relationship        0.0\n",
      "race                0.0\n",
      "sex                 0.0\n",
      "capital-gain        0.0\n",
      "capital-loss        0.0\n",
      "hours-per-week      0.0\n",
      "native-country      0.0\n",
      "Class               0.0\n",
      "dtype: float64\n"
     ]
    }
   ],
   "source": [
    "# Test on missing value\n",
    "missVal_df = (df.isnull().sum()/len(df)) * 100\n",
    "print(missVal_df)"
   ]
  },
  {
   "cell_type": "code",
   "execution_count": 4,
   "metadata": {},
   "outputs": [
    {
     "data": {
      "text/html": [
       "<div>\n",
       "<style scoped>\n",
       "    .dataframe tbody tr th:only-of-type {\n",
       "        vertical-align: middle;\n",
       "    }\n",
       "\n",
       "    .dataframe tbody tr th {\n",
       "        vertical-align: top;\n",
       "    }\n",
       "\n",
       "    .dataframe thead th {\n",
       "        text-align: right;\n",
       "    }\n",
       "</style>\n",
       "<table border=\"1\" class=\"dataframe\">\n",
       "  <thead>\n",
       "    <tr style=\"text-align: right;\">\n",
       "      <th></th>\n",
       "      <th>age</th>\n",
       "      <th>workclass</th>\n",
       "      <th>fnlwgt</th>\n",
       "      <th>education</th>\n",
       "      <th>education-number</th>\n",
       "      <th>marital-status</th>\n",
       "      <th>occupation</th>\n",
       "      <th>relationship</th>\n",
       "      <th>race</th>\n",
       "      <th>sex</th>\n",
       "      <th>capital-gain</th>\n",
       "      <th>capital-loss</th>\n",
       "      <th>hours-per-week</th>\n",
       "      <th>native-country</th>\n",
       "      <th>Class</th>\n",
       "      <th>sex_num</th>\n",
       "      <th>workclass_num</th>\n",
       "      <th>marital_num</th>\n",
       "      <th>race_num</th>\n",
       "      <th>rel_num</th>\n",
       "    </tr>\n",
       "  </thead>\n",
       "  <tbody>\n",
       "    <tr>\n",
       "      <th>0</th>\n",
       "      <td>39</td>\n",
       "      <td>State-gov</td>\n",
       "      <td>77516</td>\n",
       "      <td>Bachelors</td>\n",
       "      <td>13</td>\n",
       "      <td>Never-married</td>\n",
       "      <td>Adm-clerical</td>\n",
       "      <td>Not-in-family</td>\n",
       "      <td>White</td>\n",
       "      <td>Male</td>\n",
       "      <td>2174</td>\n",
       "      <td>0</td>\n",
       "      <td>40</td>\n",
       "      <td>United-States</td>\n",
       "      <td>0</td>\n",
       "      <td>1</td>\n",
       "      <td>1.0</td>\n",
       "      <td>3</td>\n",
       "      <td>0</td>\n",
       "      <td>0</td>\n",
       "    </tr>\n",
       "    <tr>\n",
       "      <th>1</th>\n",
       "      <td>50</td>\n",
       "      <td>Self-emp-not-inc</td>\n",
       "      <td>83311</td>\n",
       "      <td>Bachelors</td>\n",
       "      <td>13</td>\n",
       "      <td>Married-civ-spouse</td>\n",
       "      <td>Exec-managerial</td>\n",
       "      <td>Husband</td>\n",
       "      <td>White</td>\n",
       "      <td>Male</td>\n",
       "      <td>0</td>\n",
       "      <td>0</td>\n",
       "      <td>13</td>\n",
       "      <td>United-States</td>\n",
       "      <td>0</td>\n",
       "      <td>1</td>\n",
       "      <td>3.0</td>\n",
       "      <td>4</td>\n",
       "      <td>0</td>\n",
       "      <td>1</td>\n",
       "    </tr>\n",
       "    <tr>\n",
       "      <th>2</th>\n",
       "      <td>38</td>\n",
       "      <td>Private</td>\n",
       "      <td>215646</td>\n",
       "      <td>HS-grad</td>\n",
       "      <td>9</td>\n",
       "      <td>Divorced</td>\n",
       "      <td>Handlers-cleaners</td>\n",
       "      <td>Not-in-family</td>\n",
       "      <td>White</td>\n",
       "      <td>Male</td>\n",
       "      <td>0</td>\n",
       "      <td>0</td>\n",
       "      <td>40</td>\n",
       "      <td>United-States</td>\n",
       "      <td>0</td>\n",
       "      <td>1</td>\n",
       "      <td>0.0</td>\n",
       "      <td>1</td>\n",
       "      <td>0</td>\n",
       "      <td>0</td>\n",
       "    </tr>\n",
       "    <tr>\n",
       "      <th>3</th>\n",
       "      <td>53</td>\n",
       "      <td>Private</td>\n",
       "      <td>234721</td>\n",
       "      <td>11th</td>\n",
       "      <td>7</td>\n",
       "      <td>Married-civ-spouse</td>\n",
       "      <td>Handlers-cleaners</td>\n",
       "      <td>Husband</td>\n",
       "      <td>Black</td>\n",
       "      <td>Male</td>\n",
       "      <td>0</td>\n",
       "      <td>0</td>\n",
       "      <td>40</td>\n",
       "      <td>United-States</td>\n",
       "      <td>0</td>\n",
       "      <td>1</td>\n",
       "      <td>0.0</td>\n",
       "      <td>4</td>\n",
       "      <td>1</td>\n",
       "      <td>1</td>\n",
       "    </tr>\n",
       "    <tr>\n",
       "      <th>4</th>\n",
       "      <td>28</td>\n",
       "      <td>Private</td>\n",
       "      <td>338409</td>\n",
       "      <td>Bachelors</td>\n",
       "      <td>13</td>\n",
       "      <td>Married-civ-spouse</td>\n",
       "      <td>Prof-specialty</td>\n",
       "      <td>Wife</td>\n",
       "      <td>Black</td>\n",
       "      <td>Female</td>\n",
       "      <td>0</td>\n",
       "      <td>0</td>\n",
       "      <td>40</td>\n",
       "      <td>Cuba</td>\n",
       "      <td>0</td>\n",
       "      <td>0</td>\n",
       "      <td>0.0</td>\n",
       "      <td>4</td>\n",
       "      <td>1</td>\n",
       "      <td>1</td>\n",
       "    </tr>\n",
       "  </tbody>\n",
       "</table>\n",
       "</div>"
      ],
      "text/plain": [
       "   age         workclass  fnlwgt  education  education-number  \\\n",
       "0   39         State-gov   77516  Bachelors                13   \n",
       "1   50  Self-emp-not-inc   83311  Bachelors                13   \n",
       "2   38           Private  215646    HS-grad                 9   \n",
       "3   53           Private  234721       11th                 7   \n",
       "4   28           Private  338409  Bachelors                13   \n",
       "\n",
       "       marital-status         occupation   relationship   race     sex  \\\n",
       "0       Never-married       Adm-clerical  Not-in-family  White    Male   \n",
       "1  Married-civ-spouse    Exec-managerial        Husband  White    Male   \n",
       "2            Divorced  Handlers-cleaners  Not-in-family  White    Male   \n",
       "3  Married-civ-spouse  Handlers-cleaners        Husband  Black    Male   \n",
       "4  Married-civ-spouse     Prof-specialty           Wife  Black  Female   \n",
       "\n",
       "   capital-gain  capital-loss  hours-per-week native-country  Class  sex_num  \\\n",
       "0          2174             0              40  United-States      0        1   \n",
       "1             0             0              13  United-States      0        1   \n",
       "2             0             0              40  United-States      0        1   \n",
       "3             0             0              40  United-States      0        1   \n",
       "4             0             0              40           Cuba      0        0   \n",
       "\n",
       "   workclass_num  marital_num  race_num  rel_num  \n",
       "0            1.0            3         0        0  \n",
       "1            3.0            4         0        1  \n",
       "2            0.0            1         0        0  \n",
       "3            0.0            4         1        1  \n",
       "4            0.0            4         1        1  "
      ]
     },
     "execution_count": 4,
     "metadata": {},
     "output_type": "execute_result"
    }
   ],
   "source": [
    "# Process the category attribute\n",
    "df = pd.read_csv(\"adult.csv\", names = [\"age\", \"workclass\", \"fnlwgt\", \"education\",\"education-number\", \"marital-status\", \"occupation\", \"relationship\", \"race\", \"sex\", \"capital-gain\", \"capital-loss\",\"hours-per-week\", \"native-country\", \"Class\" ], skipinitialspace=True, header=None)          \n",
    "df.loc[df['Class'].str.contains(\">50K\"), 'Class'] = 1\n",
    "df.loc[df['Class'].str.contains(\"<=50K\", na=False), 'Class'] = 0\n",
    "df['sex_num'] = np.where(df.sex == 'Female', 0, 1)\n",
    "df['workclass_num'] = df.workclass.map({'Private':0, 'State-gov':1, 'Federal-gov':2, 'Self-emp-not-inc':3, 'Self-emp-inc':4, 'Local-gov':5, 'Without-pay':6})\n",
    "df['marital_num'] = df['marital-status'].map({'Widowed':0, 'Divorced':1, 'Separated':2, 'Never-married':3, 'Married-civ-spouse':4, 'Married-AF-spouse':4, 'Married-spouse-absent':5})\n",
    "df['race_num'] = df.race.map({'White':0, 'Black':1, 'Asian-Pac-Islander':2, 'Amer-Indian-Eskimo':3, 'Other':4})\n",
    "df['rel_num'] = df.relationship.map({'Not-in-family':0, 'Unmarried':0, 'Own-child':0, 'Other-relative':0, 'Husband':1, 'Wife':1})\n",
    "\n",
    "df.head()"
   ]
  },
  {
   "cell_type": "code",
   "execution_count": 5,
   "metadata": {},
   "outputs": [],
   "source": [
    "# remove rows where occupation is ?\n",
    "df = df[df.occupation != '?']"
   ]
  },
  {
   "cell_type": "markdown",
   "metadata": {},
   "source": [
    "Next, we use boxplot below to check whether there is any outlier values. We can see that hours-per-week has some value that seems to be outliers, which is because some people may not working at all, some may work for almost 100 hours per week."
   ]
  },
  {
   "cell_type": "code",
   "execution_count": 27,
   "metadata": {},
   "outputs": [
    {
     "data": {
      "text/plain": [
       "Text(0.5,1,'hours-per-week')"
      ]
     },
     "execution_count": 27,
     "metadata": {},
     "output_type": "execute_result"
    },
    {
     "data": {
      "image/png": "[encoded data removed]",
      "text/plain": [
       "<matplotlib.figure.Figure at 0x1127a0588>"
      ]
     },
     "metadata": {},
     "output_type": "display_data"
    }
   ],
   "source": [
    "fig, axes = plt.subplots(nrows=1,ncols=3, sharex=False, sharey=False)\n",
    "fig.set_size_inches(12, 12)\n",
    "\n",
    "axes[0].boxplot(df.age)\n",
    "axes[0].set_title('age')\n",
    "\n",
    "axes[1].boxplot(df[\"education-number\"])\n",
    "axes[1].set_title('education-number')\n",
    "\n",
    "axes[2].boxplot(df[\"hours-per-week\"])\n",
    "axes[2].set_title('hours-per-week')"
   ]
  },
  {
   "cell_type": "markdown",
   "metadata": {},
   "source": [
    "Then, we use heatmap below to find out whether some of the numerical values have certain relations that we can discover. From the heatmap below, we can see 'Class' has relationship with 'rel_num', 'education-number', 'marital_num' and so on."
   ]
  },
  {
   "cell_type": "code",
   "execution_count": 28,
   "metadata": {},
   "outputs": [
    {
     "data": {
      "text/plain": [
       "<matplotlib.axes._subplots.AxesSubplot at 0x108fff198>"
      ]
     },
     "execution_count": 28,
     "metadata": {},
     "output_type": "execute_result"
    },
    {
     "data": {
      "image/png": "[encoded data removed]",
      "text/plain": [
       "<matplotlib.figure.Figure at 0x11278def0>"
      ]
     },
     "metadata": {},
     "output_type": "display_data"
    }
   ],
   "source": [
    "plt.figure(figsize=(10,10))\n",
    "\n",
    "mask = np.zeros_like(df.corr(), dtype=np.bool)\n",
    "mask[np.triu_indices_from(mask)] = True\n",
    "\n",
    "sns.heatmap(df.corr(), mask=mask, cmap=\"YlGnBu\", annot=True, linewidths=.5)"
   ]
  },
  {
   "cell_type": "markdown",
   "metadata": {},
   "source": [
    "## Visualize data"
   ]
  },
  {
   "cell_type": "markdown",
   "metadata": {},
   "source": [
    "We first use violinplot below to find the relation between 'education-number' and 'Class', we can see that people earn less than 50k tend to have a 9 years education, and people who earn more than 50k, theie education is longer, the peak appears at 13 years."
   ]
  },
  {
   "cell_type": "code",
   "execution_count": 29,
   "metadata": {
    "scrolled": true
   },
   "outputs": [
    {
     "data": {
      "text/plain": [
       "<matplotlib.axes._subplots.AxesSubplot at 0x11278ddd8>"
      ]
     },
     "execution_count": 29,
     "metadata": {},
     "output_type": "execute_result"
    },
    {
     "data": {
      "image/png": "[encoded data removed]",
      "text/plain": [
       "<matplotlib.figure.Figure at 0x11278db70>"
      ]
     },
     "metadata": {},
     "output_type": "display_data"
    }
   ],
   "source": [
    "plt.figure(figsize=(10,10))\n",
    "sns.violinplot(x=\"education-number\", y=\"Class\", data=df)"
   ]
  },
  {
   "cell_type": "markdown",
   "metadata": {},
   "source": [
    "Next, we analyis education level with the money they earn. From the countplot result below, we can see that high school graduate make the main part of less than 50k, and bachelors rank the first of earning more than 50k, which is reasonable, when people have higher educaiton, they acquire more knowledge and skills, which can give them better change to make more money."
   ]
  },
  {
   "cell_type": "code",
   "execution_count": 31,
   "metadata": {},
   "outputs": [
    {
     "data": {
      "text/plain": [
       "<matplotlib.axes._subplots.AxesSubplot at 0x1059c4390>"
      ]
     },
     "execution_count": 31,
     "metadata": {},
     "output_type": "execute_result"
    },
    {
     "data": {
      "image/png": "[encoded data removed]",
      "text/plain": [
       "<matplotlib.figure.Figure at 0x116b2dd30>"
      ]
     },
     "metadata": {},
     "output_type": "display_data"
    }
   ],
   "source": [
    "plt.figure(figsize=(15,15))\n",
    "sns.countplot(x=\"education\", hue=\"Class\", palette=\"Set3\", data=df)"
   ]
  },
  {
   "cell_type": "markdown",
   "metadata": {},
   "source": [
    "As to the race. We can see from the countplot below, white people make the most money, no matter less than or more than 50k."
   ]
  },
  {
   "cell_type": "code",
   "execution_count": 32,
   "metadata": {},
   "outputs": [
    {
     "data": {
      "text/plain": [
       "<matplotlib.axes._subplots.AxesSubplot at 0x116ab7e80>"
      ]
     },
     "execution_count": 32,
     "metadata": {},
     "output_type": "execute_result"
    },
    {
     "data": {
      "image/png": "[encoded data removed]",
      "text/plain": [
       "<matplotlib.figure.Figure at 0x116d30d68>"
      ]
     },
     "metadata": {},
     "output_type": "display_data"
    }
   ],
   "source": [
    "plt.figure(figsize=(10,10))\n",
    "sns.countplot(x=\"race\", hue=\"Class\", palette=\"Set3\", data=df)"
   ]
  },
  {
   "cell_type": "markdown",
   "metadata": {},
   "source": [
    "## Observations about the data"
   ]
  },
  {
   "cell_type": "markdown",
   "metadata": {},
   "source": [
    "1. We can see eople earn less than 50k tend to have a 9 years education, and people who earn more than 50k, theie education is longer, the peak appears at 13 years.\n",
    "\n",
    "2. We can see that high school graduate make the main part of less than 50k, and bachelors rank the first of earning more than 50k, which is reasonable, when people have higher educaiton, they acquire more knowledge and skills, which can give them better change to make more money.\n",
    "\n",
    "3. We can see white people make the most money, no matter less than or more than 50k."
   ]
  },
  {
   "cell_type": "markdown",
   "metadata": {},
   "source": [
    "# III. Method\n",
    "\n",
    "Summarize the pocket algorithm, discriminant analysis, and logistic regression.\n",
    "The superclass *Classifier* defines common utility methods. \n",
    "Finish the normalize function for you. \n",
    "Do not forget explain your implementation. \n",
    "\n",
    "The explanation of your codes should not be the comments in a code cell. \n",
    "This section should include\n",
    " - review of the 4 classification models \n",
    " - your implementation and description\n"
   ]
  },
  {
   "cell_type": "markdown",
   "metadata": {},
   "source": [
    "## Review of Pocket Algorithm"
   ]
  },
  {
   "cell_type": "markdown",
   "metadata": {},
   "source": [
    "Pocket is based on the Perceptron Algorithm\n",
    "\n",
    "First of all, we will review the perceptron algorithm, let us consider a simple binary classifcation as our target problem. \n",
    "A single perceptron is a linear model that applies a step function on the linear output. \n",
    "For classification, it iterate over the training examples, and update the weights in a way that would result in correct classification. \n",
    "\n",
    "Let us consider the case of misclassification. \n",
    "For positive class example, $x_i$, \n",
    "\n",
    "$$\n",
    "y_i = w^{(k)} x_i < 0.\n",
    "$$\n",
    "\n",
    "To fix this classification error, we want to update the weight $w^{(k)}$ to increase the output $y_i$.\n",
    "Thus, we expect\n",
    "\n",
    "$$\n",
    " w^{(k+1)} x_i >  w^{(k)} x_i.\n",
    "$$\n",
    "\n",
    "This can be reached by using $x_i$ as a gradient as follows: \n",
    "\n",
    "$$\n",
    "w^{(k+1)} = w^{(k)} + \\alpha x_i\n",
    "$$\n",
    "\n",
    "where $\\alpha$ is the learning rate. \n",
    "\n",
    "When the sample $t_i$ is negative, we need to do the opposite\n",
    "\n",
    "$$\n",
    " w^{(k+1)} x_i <  w^{(k)} x_i.\n",
    "$$\n",
    "\n",
    "To combine both positive and negative cases, we can use the target sample $t_i$ in our update, \n",
    "\n",
    "$$\n",
    "w^{(k+1)} = w^{(k)} + \\alpha t_i x_i\n",
    "$$\n",
    "\n",
    "\n",
    "When the data is not linearly separable, there is no guarantee on convergence. Thus, for training, we need to set the maximum number of iteration. Also, the algorithm selects an arbitrary hyperplane that divides two classes, so it is possible to discover a decision boundary that is not the best. \n",
    "\n",
    "\n",
    "To overcome the unstability of perceptron algorithm, the pocket algorithm keeps the best solution so far *in its pocket*. Thus, $w_{pocket}$ will contain the best solution so far.  "
   ]
  },
  {
   "cell_type": "markdown",
   "metadata": {},
   "source": [
    "## Implementation and description of Pocket Algorithm"
   ]
  },
  {
   "cell_type": "markdown",
   "metadata": {},
   "source": [
    "We define the 'train' fuction to get the 'w_pocket' and we define the 'use' fuction to get the predic value.\n",
    "\n",
    "compare function was used to compare w and wp. so that we can choose the better value.\n",
    "\n",
    "please refer part of the code below:"
   ]
  },
  {
   "cell_type": "code",
   "execution_count": null,
   "metadata": {},
   "outputs": [],
   "source": [
    "# The train function\n",
    " def train(self, X, T):      \n",
    "        X1 = self.add_ones(X)\n",
    "        if self.w is None:\n",
    "            self.w = [0.0]* X1.shape[1]\n",
    "            self.wp = [0.0]* X1.shape[1]\n",
    "        for i in range(self.maxiter):  \n",
    "            for k in range(X1.shape[0]):\n",
    "                yi = np.sign(X1[k]@self.w)\n",
    "                if(yi*T[k]<=0):\n",
    "                    self.w =self.w + self.alpha * T[k] * X1[k]\n",
    "                    flag = self.compare(X1, T)\n",
    "                    if ((k>1) and (np.sum(self.w - self.wp) < 0.01)):\n",
    "                        self.converge = True\n",
    "                    if(flag == 1):\n",
    "                        self.wp = self.w\n",
    "                    else:\n",
    "                        self.w = self.wp\n",
    "                    \n",
    "            if self.converge is True:\n",
    "                break\n",
    "        return\n",
    "\n",
    "    # The use function, which applies the learned model to data X\n",
    "    def use(self, X):\n",
    "        X1 = self.add_ones(X)\n",
    "        re = np.sign(X1@self.w)  \n",
    "        if (len(re.shape)==1): \n",
    "            re = re[:,np.newaxis]\n",
    "        re[re==0]=1\n",
    "        return re"
   ]
  },
  {
   "cell_type": "markdown",
   "metadata": {},
   "source": [
    "## Review of QDA"
   ]
  },
  {
   "cell_type": "markdown",
   "metadata": {},
   "source": [
    "When we have a binary classification problem, $k \\in \\{-1, +1\\}$, we have a higher posterior probability $P(T = +1 \\mid x)$ for the sample $x$ with the positive label. Thus, \n",
    "\n",
    "$$\n",
    "P(T = +1 \\mid x) > P(T = -1 \\mid x).\n",
    "$$\n",
    "\n",
    "The inequality will be the opposite in case of the negative samples. \n",
    "\n",
    "To build our model to meet this expectation, we can play with the algebra a little bit. \n",
    "\n",
    "$$\n",
    "\\begin{align*}\n",
    "  P(T = +1 \\mid x) &> P(T = -1 \\mid x) \\\\\n",
    "  \\\\\n",
    "  \\frac{P(x \\mid T = +1) P(T = +1)} { P(x) } &> \\frac{P(x \\mid T = -1) P(T = -1)} { P(x) } \\\\\n",
    "  \\\\\n",
    "  P(x \\mid T = +1) P(T = +1)  &> P(x \\mid T = -1) P(T = -1) \\\\\n",
    "  \\\\\n",
    "  \\Big( (2\\pi)^{\\frac{d}{2}} \\vert \\boldsymbol\\Sigma_+ \\vert^{\\frac{1}{2}} \\Big)^{-1} e^{ -\\frac{1}{2} (x - \\boldsymbol\\mu_+)^\\top \\boldsymbol\\Sigma_+^{-1} (x - \\boldsymbol\\mu_+)} P(T = +1)  &>\n",
    "  \\Big( (2\\pi)^{\\frac{d}{2}} \\vert \\boldsymbol\\Sigma_- \\vert^{\\frac{1}{2}} \\Big)^{-1} e^{ -\\frac{1}{2} (x - \\boldsymbol\\mu_-)^\\top \\boldsymbol\\Sigma_-^{-1} (x - \\boldsymbol\\mu_-)} P(T = -1) \\\\\n",
    "  \\\\\n",
    "  \\Big( \\vert \\boldsymbol\\Sigma_+ \\vert^{\\frac{1}{2}} \\Big)^{-1} e^{ -\\frac{1}{2} (x - \\boldsymbol\\mu_+)^\\top \\boldsymbol\\Sigma_+^{-1} (x - \\boldsymbol\\mu_+)} P(T = +1)  &>\n",
    "  \\Big( \\vert \\boldsymbol\\Sigma_- \\vert^{\\frac{1}{2}} \\Big)^{-1} e^{ -\\frac{1}{2} (x - \\boldsymbol\\mu_-)^\\top \\boldsymbol\\Sigma_-^{-1} (x - \\boldsymbol\\mu_-)} P(T = -1) \n",
    "\\end{align*}\n",
    "$$\n",
    "\n",
    "Logarithm can remove exponent and multiplication for easier computation:\n",
    "\n",
    "$$\n",
    "-\\frac{1}{2} \\ln \\vert \\boldsymbol\\Sigma_+ \\vert - \\frac{1}{2} (x - \\boldsymbol\\mu_+)^\\top \\boldsymbol\\Sigma_+^{-1} (x - \\boldsymbol\\mu_+) + \\ln P(T = +1) > -\\frac{1}{2} \\ln \\vert \\boldsymbol\\Sigma_- \\vert - \\frac{1}{2} (x - \\boldsymbol\\mu_-)^\\top \\boldsymbol\\Sigma_-^{-1} (x - \\boldsymbol\\mu_-) + \\ln P(T = -1)\n",
    "$$\n",
    "\n",
    "From the observation that both terms have the same cosmetics, we can define the discriminant function $\\delta_k(x)$ as\n",
    "\n",
    "$$\n",
    "\\delta_k(x) = -\\frac{1}{2} \\ln \\vert \\boldsymbol\\Sigma_k \\vert - \\frac{1}{2} (x - \\boldsymbol\\mu_k)^\\top \\boldsymbol\\Sigma_k^{-1} (x - \\boldsymbol\\mu_k) + \\ln P(T = k). \n",
    "$$\n",
    "\n",
    "Now, for a new sample $\\tilde{x}$, we can predict the label with\n",
    "\n",
    "$$\n",
    "y = \\arg\\max_k \\delta_k(\\tilde{x}). \n",
    "$$\n",
    "\n",
    "The decision boundary is placed where the discriminant functions meet such as $\\delta_1 == \\delta_2$. \n",
    "\n",
    "Since the $\\delta_k$ function is quadratic in $x$, the decision boundary is quadratic. \n",
    "We call this approach as **Quadratic Discriminant Analysis (QDA)**. "
   ]
  },
  {
   "cell_type": "markdown",
   "metadata": {},
   "source": [
    "## Implementation and description of QDA"
   ]
  },
  {
   "cell_type": "markdown",
   "metadata": {},
   "source": [
    "We define the 'train' function with inpuet X, N1, N2, N, from train funciton, we can get mu1, mu2, Sigma1, Sigma2, prior1, prior2; and after we get these paramaters, we define 'use' function to get our prediction.\n",
    "\n",
    "Please refer part of the code below."
   ]
  },
  {
   "cell_type": "code",
   "execution_count": null,
   "metadata": {},
   "outputs": [],
   "source": [
    " # The train function, in this function, we can get mu1, mu2, Sigma1, Sigma2, prior1, prior2\n",
    "    def train(self, X, N1, N2, N):\n",
    "        \n",
    "        Xs = self.normalize(X)\n",
    "        print(Xs[:N2])\n",
    "        mu1 = np.mean(Xs[:N2], 0)\n",
    "        mu2 = np.mean(Xs[N2:], 0)\n",
    "        \n",
    "        Sigma1 = np.cov(Xs[:N1].T)\n",
    "        Sigma2 = np.cov(Xs[N1:].T)\n",
    "        prior1 = N1 / N\n",
    "        prior2 = N2 / N       \n",
    "        print(Sigma1)       \n",
    "        return mu1, mu2, Sigma1, Sigma2, prior1, prior2\n",
    "    \n",
    "# Use function, with this function, we can get our prediction.\n",
    "    def use(self, X, mu, sigma, prior):\n",
    "        sigma_inv = np.linalg.inv(sigma)\n",
    "        diffv = X - mu\n",
    "        return -0.5  * np.log(np.linalg.det(sigma)) \\\n",
    "            - 0.5 * np.sum(diffv @ sigma_inv * diffv, axis=1) \\\n",
    "            + np.log(prior)"
   ]
  },
  {
   "cell_type": "markdown",
   "metadata": {},
   "source": [
    "## Review of LDA"
   ]
  },
  {
   "cell_type": "markdown",
   "metadata": {},
   "source": [
    "Maintaining the covariance matrix is not cheap. Considering the input dimension $d$, the symmetric covariance meetric contains $\\frac{d (d+1)}{2}$. \n",
    "\n",
    "Also, the data is undersampled, the resulting class boundary has high chance of overfitting. \n",
    "\n",
    "Simply using the same covariance for all the classes, we can reach the **linear discriminant analysis** model, which can overcome the stated problems above. \n",
    "Let $\\boldsymbol\\Sigma_k = \\boldsymbol\\Sigma$. \n",
    "\n",
    "$$\n",
    "\\begin{align*}\n",
    "\\delta_+(x) &> \\delta_-(x) \\\\\n",
    "\\\\\n",
    "-\\frac{1}{2} \\ln \\vert \\boldsymbol\\Sigma \\vert - \\frac{1}{2} (x - \\boldsymbol\\mu_+)^\\top \\boldsymbol\\Sigma^{-1} (x - \\boldsymbol\\mu_+) + \\ln P(T = +1) &> -\\frac{1}{2} \\ln \\vert \\boldsymbol\\Sigma \\vert - \\frac{1}{2} (x - \\boldsymbol\\mu_-)^\\top \\boldsymbol\\Sigma^{-1} (x - \\boldsymbol\\mu_-) + \\ln P(T = -1)\\\\\n",
    "\\\\\n",
    " - \\frac{1}{2} (x - \\boldsymbol\\mu_+)^\\top \\boldsymbol\\Sigma^{-1} (x - \\boldsymbol\\mu_+) + \\ln P(T = +1) &>  - \\frac{1}{2} (x - \\boldsymbol\\mu_-)^\\top \\boldsymbol\\Sigma^{-1} (x - \\boldsymbol\\mu_-) + \\ln P(T = -1)\\\\ \n",
    " \\\\\n",
    " - \\frac{1}{2} \\Big[ x^\\top \\boldsymbol\\Sigma^{-1}x  -2 x^\\top \\boldsymbol\\Sigma^{-1} \\boldsymbol\\mu_+ +  \\boldsymbol\\mu_+^\\top \\boldsymbol\\Sigma^{-1}\\boldsymbol\\mu_+ \\Big] + \\ln P(T = +1) &>  - \\frac{1}{2} \\Big[ x^\\top \\boldsymbol\\Sigma^{-1}x  -2 x^\\top \\boldsymbol\\Sigma^{-1} \\boldsymbol\\mu_- +  \\boldsymbol\\mu_-^\\top \\boldsymbol\\Sigma^{-1}\\boldsymbol\\mu_- \\Big] + \\ln P(T = -1)\\\\\n",
    " \\\\\n",
    " x^\\top \\boldsymbol\\Sigma^{-1} \\boldsymbol\\mu_+ -\\frac{1}{2} \\boldsymbol\\mu_+^\\top \\boldsymbol\\Sigma^{-1}\\boldsymbol\\mu_+ + \\ln P(T = +1) &>  x^\\top \\boldsymbol\\Sigma^{-1} \\boldsymbol\\mu_- - \\frac{1}{2}\\boldsymbol\\mu_-^\\top \\boldsymbol\\Sigma^{-1}\\boldsymbol\\mu_-  + \\ln P(T = -1)\n",
    "\\end{align*}\n",
    "$$\n",
    "\n",
    "Unifying the covariance matrix, we can remove the quadratic term in our disciriminant function: \n",
    "\n",
    "$$\n",
    "\\delta_k(x) = x^\\top \\boldsymbol\\Sigma^{-1} \\boldsymbol\\mu_+ -\\frac{1}{2} \\boldsymbol\\mu_+^\\top \\boldsymbol\\Sigma^{-1}\\boldsymbol\\mu_k + \\ln P(T = k).\n",
    "$$\n",
    "\n",
    "In many cases, for simple computation, the covariance matrix $\\boldsymbol\\Sigma$ is chosen as an average of all the covariance matrices for all classes,\n",
    "\n",
    "$$\n",
    "\\boldsymbol\\Sigma = \\sum_k^K \\frac{N_k}{N} \\boldsymbol\\Sigma_k.\n",
    "$$\n",
    "\n",
    "\n",
    "\n"
   ]
  },
  {
   "cell_type": "markdown",
   "metadata": {},
   "source": [
    "##  Implementation and description of LDA"
   ]
  },
  {
   "cell_type": "markdown",
   "metadata": {},
   "source": [
    "We define the 'train' function to get the paramaters, mu1, mu2, Sigma, prior1, prior2. and we define the use function to make prediction.\n",
    "\n",
    "Please refer the code below"
   ]
  },
  {
   "cell_type": "code",
   "execution_count": null,
   "metadata": {},
   "outputs": [],
   "source": [
    "# The train function\n",
    "    def train(self, Xs, N1, N2, N):\n",
    "        means, stds = np.mean(Xtrain, 0), np.std(Xtrain, 0)\n",
    "        Xs = (Xtrain - means) / stds\n",
    "\n",
    "        mu1 = np.mean(Xs[:N1], 0)\n",
    "        mu2 = np.mean(Xs[N1:], 0)\n",
    "\n",
    "        Sigma = np.cov(Xs.T)\n",
    "\n",
    "        prior1 = N1 / N\n",
    "        prior2 = N2 / N\n",
    "        \n",
    "        return mu1, mu2, Sigma, prior1, prior2\n",
    "    \n",
    "# The use function, is used for make prediction.    \n",
    "    def use(self, X, mu, sigma, prior):\n",
    "        sigma_inv = np.linalg.inv(sigma)\n",
    "        return np.sum(np.dot(X, sigma_inv) * mu \\\n",
    "                - 0.5 * np.dot(mu, sigma_inv) * mu \\\n",
    "                + np.log(prior), axis=1)\n"
   ]
  },
  {
   "cell_type": "markdown",
   "metadata": {},
   "source": [
    "## Review of Logistic Regression"
   ]
  },
  {
   "cell_type": "markdown",
   "metadata": {},
   "source": [
    "Previously we discussed about using least squres to fit on the discrete target for classification.\n",
    "When dealing with multiple classes, it can cause masking problem that one class estimation is masked by other predictions. \n",
    "\n",
    "Now, we consider a linear regression model that directly predicts $P(T=k \\mid x)$, not the class label $k$. \n",
    "We call this approach as **Logistic Regression**. \n",
    "\n",
    "Again, let us use the same linear model for regression: \n",
    "\n",
    "$$\n",
    "\\kappa = f(x ; w) = X w.\n",
    "$$\n",
    "\n",
    "Thus,\n",
    "\n",
    "$$\n",
    "P(T=k \\mid x) = h(X w) = h(\\kappa) = y.\n",
    "$$\n",
    "\n",
    "### Target\n",
    "\n",
    "To generate multiple probability outputs for each class, we consider the indicator output targets. \n",
    "\n",
    "$$\n",
    "T = \\begin{bmatrix}\n",
    "        t_{1,1} & t_{1,2} & \\cdots & t_{1, K} \\\\\n",
    "        t_{2,1} & t_{2,2} & \\cdots & t_{2, K} \\\\\n",
    "        \\vdots & & &     \\vdots \\\\\n",
    "        t_{N,1} & t_{N,2} & \\cdots & t_{N, K} \\\\\n",
    "      \\end{bmatrix}\n",
    "$$\n",
    "where $t_{n,k}$ is 0 or 1 with only one 1 per each row. \n",
    "\n",
    "Note: Here the weight $w$ is not a vector any more. It is matrix with $D+1 \\times K$ dimensions.\n",
    "\n",
    "\n",
    "### Likelihood\n",
    "\n",
    "Assuming i.i.d (independently identically distributed) data, we can compute the likelihood as\n",
    "\n",
    "$$\n",
    "P(T \\mid w) = \\prod_{n=1}^{N} \\prod_{k=1}^{K} P(T = k \\mid x_n)^{t_{n,k}} = \\prod_{n=1}^{N} \\prod_{k=1}^{K} y_{n,k}^{t_{n,k}}\n",
    "$$\n",
    "\n",
    "Since we maximize the likelihood function, we define our error function as the negative logarithm of it:\n",
    "\n",
    "$$\n",
    "E(w) = - \\ln P(T \\mid w) =  - \\sum_{n=1}^{N} \\sum_{k=1}^{K} t_{n,k} \\ln y_{n,k}.\n",
    "$$\n",
    "\n",
    "This function is called *cross-entropy* error function for the multiclass classification problem. \n",
    "\n",
    "\n",
    "### Gradient Descent\n",
    "\n",
    "As we practiced in least mean squares, we need to update the weight $w$ with the gradient:\n",
    "\n",
    "$$\n",
    "w \\leftarrow w - \\alpha \\nabla_w E(w).\n",
    "$$\n",
    "with the learning rate $\\alpha$. \n",
    "\n",
    "\n",
    "#### Softmax Transformation\n",
    "\n",
    "Before computing the derivative, let us select the function $h(\\cdot)$. \n",
    "\n",
    "Since $P(T=k \\mid x)$ is probability function, it satisfies \n",
    "\n",
    "- the outputs are non-negative,\n",
    "\n",
    "- the integral of the probability is one. \n",
    "\n",
    "To ensure this,\n",
    "\n",
    "$$\n",
    "P(T=k \\mid x) = \\frac{\\kappa_k}{\\sum_{c=1}^K \\kappa_c}\n",
    "$$\n",
    "\n",
    "Since we are working with the logarithm, an exponent is a good idea.\n",
    "\n",
    "$$\n",
    "g_k(x) = P(T=k \\mid x) = \\frac{e^{\\kappa_k}}{\\sum_{c=1}^K e^{\\kappa_c}}\n",
    "$$\n",
    "\n",
    "This function is called as **softmax function**. This generalizes the logistic sigmoid fuunction and the derivatives are given by itself\n",
    "\n",
    "$$\n",
    "\\frac{\\partial g_k}{\\partial y_j}  = g_k (I_{kj} - g_j).\n",
    "$$\n",
    "\n",
    "\n",
    "#### Back to Derivative\n",
    "\n",
    "Here, \n",
    "\n",
    "$$\n",
    "\\begin{align*}\n",
    "\\nabla_{w_j} g_{n,k}(x) &= g_k(x) (I_{kj} - g_j(x)) \\nabla_{w_j} (w^\\top x) \\\\\n",
    "    \\\\\n",
    "            &= g_k(x) (I_{kj} - g_j(x))  x.\n",
    "\\end{align*}\n",
    "$$\n",
    "\n",
    "\n",
    "$$\n",
    "\\begin{align*}\n",
    "\\nabla_{w_j} E(w) &= \\nabla_{w_j} \\Big(-\\sum_{n=1}^{N} \\sum_{k=1}^{K} t_{n,k} \\ln g_{n,k}(x_n) \\Big) \\\\\n",
    "                      \\\\\n",
    "                      &= -\\sum_{n=1}^{N} \\sum_{k=1}^{K} t_{n,k} \\frac{1}{g_{n,k}(x_n)} \\nabla_{w_j} g_{n,k}(x_n)\\\\\n",
    "                      \\\\\n",
    "                      &= -\\sum_{n=1}^{N} \\sum_{k=1}^{K} t_{n,k} (I_{kj} - g_j(x_n)) x_n\\\\\n",
    "                      \\\\\n",
    "                      &= -\\sum_{n=1}^{N} \\Bigg( \\sum_{k=1}^{K} t_{n,k} (I_{kj} - g_j(x_n)) \\Bigg) x_n\\\\\n",
    "                      \\\\\n",
    "                      &= -\\sum_{n=1}^{N} \\Bigg( \\sum_{k=1}^{K} t_{n,k} I_{kj} - g_j(x_n) \\sum_{k=1}^{K} t_{n,k} ) \\Bigg) x_n\\\\\n",
    "                      \\\\\n",
    "                      &= -\\sum_{n=1}^{N} \\Bigg(  t_{n,j} - g_j(x_n)\\Bigg) x_n\n",
    "\\end{align*}\n",
    "$$\n",
    "\n",
    "Using the gradient, now we can update the weights, \n",
    "\n",
    "$$\n",
    "w_j \\leftarrow w_j + \\alpha \\sum_{n=1}^{N} \\Big( t_{n,j} - g_j(x_n)\\Big) x_n.\n",
    "$$\n",
    "\n",
    "Converting the summation into matrix calculation,\n",
    "\n",
    "$$\n",
    "w_j \\leftarrow w_j + \\alpha X^\\top \\Big(  t_{*,j} - g_j(X)\\Big).\n",
    "$$\n",
    "\n",
    "\n",
    "### Implementation \n",
    "\n",
    "Before writing codes, let us check the matrix size!\n",
    "\n",
    "- $X: N \\times (D+1)$\n",
    "- $T: N \\times K$\n",
    "\n",
    "\n",
    "- $w: (D+1) \\times K$\n",
    "- $t_{*,j}: N \\times 1 $\n",
    "- $g_j(X): N \\times 1 $\n",
    "\n",
    "\n",
    "- $X^\\top \\big( t_{*,j} - g_j(X) \\big)$: $(D+1) \\times N \\cdot \\big( N \\times 1 - N \\times 1 \\big) \\Rightarrow (D+1) \\times 1$\n",
    "\n",
    "This gradient update one column of the weight matrix, so we can combine the computations:\n",
    "\n",
    "$$\n",
    "w \\leftarrow w + \\alpha X^\\top \\Big(  T - g(X)\\Big).\n",
    "$$\n",
    "\n",
    "Double checking the size of matrics,\n",
    "\n",
    "- $X^\\top \\big( T - g(X) \\big)$: $(D+1) \\times N \\cdot \\big( N \\times K - N \\times K \\big) \\Rightarrow (D+1) \\times K$. "
   ]
  },
  {
   "cell_type": "markdown",
   "metadata": {},
   "source": [
    "## Implementation and description of Logistic Regression"
   ]
  },
  {
   "cell_type": "markdown",
   "metadata": {},
   "source": [
    "We define the 'train' function, which will use the 'g' function, and the 'g' function will call the 'softmax' function. After training, we define the 'use' function to make prediction.\n",
    "\n",
    "Please refer the code below:"
   ]
  },
  {
   "cell_type": "code",
   "execution_count": null,
   "metadata": {},
   "outputs": [],
   "source": [
    " # The train function\n",
    "    def train(self, X, T): \n",
    "        \n",
    "        means, stds = np.mean(X, 0), np.std(X, 0)\n",
    "        # normalize inputs\n",
    "        X = (X - means) / stds\n",
    "        #X1 = np.hstack((np.ones((X.shape[0], 1)), X))\n",
    "        X1 = np.hstack((np.ones((X.shape[0],1)), X))\n",
    "        #T1 = self.add_ones(T)\n",
    "        niter = 10\n",
    "        alpha = 0.0001\n",
    "        for step in range(niter):\n",
    "            # TODO: add training code here! \n",
    "            ys = self.g(X1, self.w) \n",
    "            #print(ys)\n",
    "            self.w += alpha * X1.T @ (T - ys)\n",
    "        #print(X1)\n",
    "        #print(self.w)\n",
    "    \n",
    "    # The use function\n",
    "    def use(self, X):\n",
    "        means, stds = np.mean(X, 0), np.std(X, 0)\n",
    "        # normalize inputs\n",
    "        X = (X - means) / stds\n",
    "        X1t = np.hstack((np.ones((X.shape[0],1)), X))\n",
    "        #X1t = self.add_ones(X)\n",
    "        #print(self.w)\n",
    "        Y = self.g(X1t, self.w)\n",
    "        #Y = self.add_ones(Y)\n",
    "        return Y"
   ]
  },
  {
   "cell_type": "markdown",
   "metadata": {},
   "source": [
    "### A. Super Classs Definition"
   ]
  },
  {
   "cell_type": "code",
   "execution_count": 29,
   "metadata": {},
   "outputs": [],
   "source": [
    "import numpy as np\n",
    "import abc\n",
    "from abc import ABC, abstractmethod\n",
    "# Super class for machine learning models \n",
    "\n",
    "class BaseModel(ABC):\n",
    "    \"\"\" Super class for ITCS Machine Learning Class\"\"\"\n",
    "    \n",
    "    @abstractmethod\n",
    "    def train(self, X, T):\n",
    "        pass\n",
    "\n",
    "    @abstractmethod\n",
    "    def use(self, X):\n",
    "        pass\n",
    "\n",
    "\n",
    "class Classifier(BaseModel):\n",
    "    \"\"\"\n",
    "        Abstract class for classification \n",
    "        \n",
    "        Attributes\n",
    "        ==========\n",
    "        meanX       ndarray\n",
    "                    mean of inputs (from standardization)\n",
    "        stdX        ndarray\n",
    "                    standard deviation of inputs (standardization)\n",
    "    \"\"\"\n",
    "    def __init__(self, ):\n",
    "        self.meanX = None\n",
    "        self.stdX = None\n",
    "\n",
    "    def normalize(self, X):\n",
    "        \"\"\" standardize the input X \"\"\"\n",
    "        \n",
    "        if not isinstance(X, np.ndarray):\n",
    "            X = np.asanyarray(X)\n",
    "\n",
    "        self.meanX = np.mean(X, 0)\n",
    "        self.stdX = np.std(X, 0)\n",
    "\n",
    "        # TODO: Finish this normalization\n",
    "        Xs = (X - self.meanX) / self.stdX\n",
    "        return Xs\n",
    "\n",
    "   \n",
    "\n",
    "    def _check_matrix(self, mat, name):\n",
    "        if len(mat.shape) != 2:\n",
    "            raise ValueError(''.join([\"Wrong matrix \", name]))\n",
    "        \n",
    "    # add a basis\n",
    "    def add_ones(self, X):\n",
    "        \"\"\"\n",
    "            add a column basis to X input matrix\n",
    "        \"\"\"\n",
    "        self._check_matrix(X, 'X')\n",
    "        return np.hstack((np.ones((X.shape[0], 1)), X))\n",
    "\n",
    "    ####################################################\n",
    "    #### abstract funcitons ############################\n",
    "    @abc.abstractmethod\n",
    "    def train(self, X, T):\n",
    "        pass\n",
    "    \n",
    "    @abc.abstractmethod\n",
    "    def use(self, X):\n",
    "        pass "
   ]
  },
  {
   "cell_type": "markdown",
   "metadata": {},
   "source": [
    "### B. Pocket Algorithm"
   ]
  },
  {
   "cell_type": "code",
   "execution_count": 8,
   "metadata": {},
   "outputs": [],
   "source": [
    "from copy import deepcopy as copy \n",
    "class Pocket(Classifier): \n",
    "    def __init__(self):\n",
    "        Classifier.__init__(self)\n",
    "        self.maxiter = 100\n",
    "        self.alpha = 0.1\n",
    "        self.w = None\n",
    "        self.wp = None\n",
    "        self.converge = False\n",
    "        \n",
    "    def compare(self,X, T):\n",
    "        if self.wp is None:\n",
    "            return 1\n",
    "        else:\n",
    "            y = np.sign(X@self.w)\n",
    "            yp = np.sign(X@self.wp)\n",
    "            return 1 if np.sum(y == T) >= np.sum(yp == T) else -1\n",
    "\n",
    "\n",
    "    def train(self, X, T):      \n",
    "        X1 = self.add_ones(X)\n",
    "        if self.w is None:\n",
    "            self.w = [0.0]* X1.shape[1]\n",
    "            self.wp = [0.0]* X1.shape[1]\n",
    "        for i in range(self.maxiter):  \n",
    "            for k in range(X1.shape[0]):\n",
    "                yi = np.sign(X1[k]@self.w)\n",
    "                if(yi*T[k]<=0):\n",
    "                    self.w += self.alpha * T[k] * X1[k]\n",
    "                    flag = self.compare(X1, T)\n",
    "                    if ((k>1) and (np.sum(self.w - self.wp) < 0.001)):\n",
    "                        self.converge = True\n",
    "                    if(flag == 1):\n",
    "                        self.wp = self.w\n",
    "                    else:\n",
    "                        self.w = self.wp\n",
    "                    \n",
    "            if self.converge is True:\n",
    "                break\n",
    "        return\n",
    "\n",
    "    # apply the learned model to data X\n",
    "    def use(self, X):\n",
    "        X1 = self.add_ones(X)\n",
    "        re = np.sign(X1@self.w)  \n",
    "        if (len(re.shape)==1): \n",
    "            re = re[:,np.newaxis]\n",
    "        re[re==0]=1\n",
    "        return re\n",
    "    \n"
   ]
  },
  {
   "cell_type": "markdown",
   "metadata": {},
   "source": [
    "### C. QDA"
   ]
  },
  {
   "cell_type": "code",
   "execution_count": 2,
   "metadata": {},
   "outputs": [],
   "source": [
    "class qda(Classifier): \n",
    "    \n",
    "    def __init__(self, ):\n",
    "        self.meanX = 0\n",
    "        self.stdX = 0\n",
    "\n",
    "    def normalize(self, X):\n",
    "        \"\"\" standardize the input X \"\"\"\n",
    "        \n",
    "        if not isinstance(X, np.ndarray):\n",
    "            X = np.asanyarray(X)\n",
    "            self.meanX = np.mean(X, 0)\n",
    "            self.stdX = np.std(X, 0)\n",
    "            Xs = (X - self.meanX) / self.stdX\n",
    "            return Xs\n",
    "        \n",
    "    def train(self, X, N1, N2, N):\n",
    "        means, stds = np.mean(X , 0), np.std(X , 0)\n",
    "        Xs = (X  - means) / stds\n",
    "        mu1 = np.mean(Xs[:N1], 0)\n",
    "        mu2 = np.mean(Xs[N1:], 0)\n",
    "        Sigma1 = np.cov(Xs[:N1].T)\n",
    "        Sigma2 = np.cov(Xs[N1:].T)\n",
    "        prior1 = N1 / N\n",
    "        prior2 = N2 / N    \n",
    "        return mu1, mu2, Sigma1, Sigma2, prior1, prior2\n",
    "    \n",
    "    def use(self, X, mu, sigma, prior):\n",
    "        means1, stds1 = np.mean(X , 0), np.std(X , 0)\n",
    "        Xs = (X  - means1) / stds1\n",
    "        sigma_inv = np.linalg.inv(sigma)\n",
    "        diffv = Xs - mu\n",
    "        return -0.5  * np.log(np.linalg.det(sigma)) \\\n",
    "            - 0.5 * np.sum(diffv @ sigma_inv * diffv, axis=1) \\\n",
    "            + np.log(prior)"
   ]
  },
  {
   "cell_type": "markdown",
   "metadata": {},
   "source": [
    "### D. LDA"
   ]
  },
  {
   "cell_type": "code",
   "execution_count": 104,
   "metadata": {},
   "outputs": [],
   "source": [
    "class lda(Classifier): \n",
    "    \n",
    "    def __init__(self, ):\n",
    "        self.meanX = 0\n",
    "        self.stdX = 0\n",
    "    \n",
    "    # The normalization function.\n",
    "    def normalize(self, X):\n",
    "        \"\"\" standardize the input X \"\"\"\n",
    "        \n",
    "        if not isinstance(X, np.ndarray):\n",
    "            X = np.asanyarray(X)\n",
    "\n",
    "        self.meanX = np.mean(X, 0)\n",
    "        self.stdX = np.std(X, 0)\n",
    "\n",
    "        Xs = (X - self.meanX) / self.stdX\n",
    "        return Xs   \n",
    "    \n",
    "    def train(self, X, N1, N2, N):\n",
    "        means, stds = np.mean(X, 0), np.std(X, 0)\n",
    "        Xs = (X - means) / stds\n",
    "        mu1 = np.mean(Xs[:N1], 0)\n",
    "        mu2 = np.mean(Xs[N1:], 0)\n",
    "        Sigma = np.cov(Xs.T)\n",
    "        prior1 = N1 / N\n",
    "        prior2 = N2 / N\n",
    "        \n",
    "        return mu1, mu2, Sigma, prior1, prior2\n",
    "    \n",
    "    \n",
    "    def use(self, X, mu, sigma, prior):\n",
    "        sigma_inv = np.linalg.inv(sigma)\n",
    "        return np.sum(np.dot(X, sigma_inv) * mu \\\n",
    "                - 0.5 * np.dot(mu, sigma_inv) * mu \\\n",
    "                + np.log(prior), axis=1)\n"
   ]
  },
  {
   "cell_type": "markdown",
   "metadata": {},
   "source": [
    "### E. Logistic Regression"
   ]
  },
  {
   "cell_type": "code",
   "execution_count": 100,
   "metadata": {},
   "outputs": [],
   "source": [
    "class lg(Classifier):\n",
    "    \n",
    "    def __init__(self, ):\n",
    "        self.meanX = 0\n",
    "        self.stdX = 0\n",
    "        # initialize the weight matrix\n",
    "        D = 2\n",
    "        K = 2\n",
    "        self.w = np.random.rand(D+1, K)\n",
    "        #self.w = np.zeros((D+1, K))\n",
    "        #print(self.w)\n",
    "        #w = np.zeros((D+1), K)\n",
    "\n",
    "\n",
    "    # g(.) the softmax function\n",
    "    def softmax(self, z):\n",
    "        if not isinstance(z, np.ndarray):\n",
    "            z = np.asarray(z)\n",
    "        f = np.exp(z) \n",
    "        return f / (np.sum(f, axis=1, keepdims=True) if len(z.shape) == 2 else np.sum(f))\n",
    "\n",
    "    # for linear fx\n",
    "    def g(self, X, w):\n",
    "        return self.softmax(X @ w) \n",
    "    \n",
    "   \n",
    "    # The train function\n",
    "    def train(self, X, T): \n",
    "        \n",
    "        means, stds = np.mean(X, 0), np.std(X, 0)\n",
    "        # normalize inputs\n",
    "        X = (X - means) / stds\n",
    "        #X1 = np.hstack((np.ones((X.shape[0], 1)), X))\n",
    "        X1 = np.hstack((np.ones((X.shape[0],1)), X))\n",
    "        #T1 = self.add_ones(T)\n",
    "        niter = 10\n",
    "        alpha = 0.0001\n",
    "        for step in range(niter):\n",
    "            # TODO: add training code here! \n",
    "            ys = self.g(X1, self.w) \n",
    "            #print(ys)\n",
    "            self.w += alpha * X1.T @ (T - ys)\n",
    "        #print(X1)\n",
    "        #print(self.w)\n",
    "    \n",
    "    # The use function\n",
    "    def use(self, X):\n",
    "        means, stds = np.mean(X, 0), np.std(X, 0)\n",
    "        # normalize inputs\n",
    "        X = (X - means) / stds\n",
    "        X1t = np.hstack((np.ones((X.shape[0],1)), X))\n",
    "        #X1t = self.add_ones(X)\n",
    "        #print(self.w)\n",
    "        Y = self.g(X1t, self.w)\n",
    "        #Y = self.add_ones(Y)\n",
    "        return Y"
   ]
  },
  {
   "cell_type": "markdown",
   "metadata": {},
   "source": [
    "# IV. Experiments\n",
    "\n",
    "Apply the classfiers on the data and discuss the results.\n",
    "Please describe your codes for experiments. You may have subsections of results and discussions here.\n",
    "Here follows the list that you consider to include:\n",
    "- the classification results\n",
    "- plots of classification results \n",
    "- model comparision \n",
    "- choice of evaluation metrics\n",
    "- **Must partition data into training and testing**"
   ]
  },
  {
   "cell_type": "markdown",
   "metadata": {},
   "source": [
    "## Pocket Experiment"
   ]
  },
  {
   "cell_type": "code",
   "execution_count": 3,
   "metadata": {},
   "outputs": [],
   "source": [
    "import numpy as np\n",
    "import pandas as pd\n",
    "import seaborn as sns\n",
    "import matplotlib.pyplot as plt\n",
    "from mpl_toolkits.mplot3d import Axes3D"
   ]
  },
  {
   "cell_type": "code",
   "execution_count": 190,
   "metadata": {},
   "outputs": [],
   "source": [
    "df = pd.read_csv(\"adult.csv\", names = [\"age\", \"workclass\", \"fnlwgt\", \"education\",\"education-number\", \"marital-status\", \"occupation\", \"relationship\", \"race\", \"sex\", \"capital-gain\", \"capital-loss\",\"hours-per-week\", \"native-country\", \"Class\" ], skipinitialspace=True, header=None)          \n",
    "\n",
    "# Set >50K as 1 and <=50K as -1\n",
    "df.loc[df['Class'].str.contains(\">50K\"), 'Class'] = 1\n",
    "df.loc[df['Class'].str.contains(\"<=50K\", na=False), 'Class'] = -1\n",
    "\n",
    "df['sex_num'] = np.where(df.sex == 'Female', 0, 1)\n",
    "df['workclass_num'] = df.workclass.map({'Private':0, 'State-gov':1, 'Federal-gov':2, 'Self-emp-not-inc':3, 'Self-emp-inc':4, 'Local-gov':5, 'Without-pay':6})\n",
    "df['marital_num'] = df['marital-status'].map({'Widowed':0, 'Divorced':1, 'Separated':2, 'Never-married':3, 'Married-civ-spouse':4, 'Married-AF-spouse':4, 'Married-spouse-absent':5})\n",
    "df['race_num'] = df.race.map({'White':0, 'Black':1, 'Asian-Pac-Islander':2, 'Amer-Indian-Eskimo':3, 'Other':4})\n",
    "df['rel_num'] = df.relationship.map({'Not-in-family':0, 'Unmarried':0, 'Own-child':0, 'Other-relative':0, 'Husband':1, 'Wife':1})\n",
    "#print(df.head())\n",
    "\n",
    "# Because the training takes a lot of time, so pick 30% of the data\n",
    "df = df.sample(frac=0.3)\n",
    "\n",
    "# Define the Data for traing and testing.\n",
    "X = df[['age', 'workclass_num', 'education-number', 'marital_num', 'race_num', 'sex_num', 'rel_num', 'capital-gain', 'capital-loss']]\n",
    "\n",
    "y = df.Class\n",
    "\n",
    "# We use train_test_split to set X_train, X_test, y_train, y_test part.\n",
    "from sklearn.cross_validation import train_test_split\n",
    "X_train, X_test, y_train, y_test = train_test_split(X, y, random_state=13)\n",
    "#print(y_test)\n",
    "\n",
    "\n",
    "# As shown in previous heatmap. We choose the most related values'rel_num' and 'education-number' to form the train data and the test data.\n",
    "X_trainP = np.array(X_train.iloc[:,[2,6]], dtype=np.float32)\n",
    "X_testP = np.array(X_test.iloc[:,[2,6]], dtype=np.float32)\n",
    "\n",
    "# Define y_trainP as train y of pocket algorithms experiment.\n",
    "y_trainP = np.array(y_train)\n",
    "\n",
    "y_testP = np.array(y_test)"
   ]
  },
  {
   "cell_type": "code",
   "execution_count": 193,
   "metadata": {},
   "outputs": [],
   "source": [
    "pc = Pocket()\n",
    "pc.train(X_trainP, y_trainP)\n",
    "y_pred = pc.use(X_testP)"
   ]
  },
  {
   "cell_type": "code",
   "execution_count": 194,
   "metadata": {},
   "outputs": [
    {
     "data": {
      "image/png": "[encoded data removed]",
      "text/plain": [
       "<matplotlib.figure.Figure at 0x11da4de10>"
      ]
     },
     "metadata": {},
     "output_type": "display_data"
    }
   ],
   "source": [
    "plt.plot(y_testP[0::20],  zorder=1,  label='Target')\n",
    "plt.plot(y_pred[0::20], zorder=10,  label='Predic')\n",
    "plt.legend()\n",
    "plt.show()"
   ]
  },
  {
   "cell_type": "code",
   "execution_count": 199,
   "metadata": {},
   "outputs": [
    {
     "name": "stdout",
     "output_type": "stream",
     "text": [
      "0.758804258804\n"
     ]
    }
   ],
   "source": [
    "from sklearn.metrics import accuracy_score\n",
    "as1 = accuracy_score(y_testP, y_pred)\n",
    "print(as1)"
   ]
  },
  {
   "cell_type": "markdown",
   "metadata": {},
   "source": [
    "## QDA Experiment"
   ]
  },
  {
   "cell_type": "code",
   "execution_count": 4,
   "metadata": {},
   "outputs": [],
   "source": [
    "# Define the Data for traing and testing.\n",
    "df = pd.read_csv(\"adult.csv\", names = [\"age\", \"workclass\", \"fnlwgt\", \"education\",\"education-number\", \"marital-status\", \"occupation\", \"relationship\", \"race\", \"sex\", \"capital-gain\", \"capital-loss\",\"hours-per-week\", \"native-country\", \"Class\" ], skipinitialspace=True, header=None)          \n",
    "\n",
    "# Set >50K as 1 and <=50K as 0\n",
    "df.loc[df['Class'].str.contains(\">50K\"), 'Class'] = 1\n",
    "df.loc[df['Class'].str.contains(\"<=50K\", na=False), 'Class'] = -1\n",
    "\n",
    "# Deal with the other category data.\n",
    "df['sex_num'] = np.where(df.sex == 'Female', 0, 1)\n",
    "df['workclass_num'] = df.workclass.map({'Private':0, 'State-gov':1, 'Federal-gov':2, 'Self-emp-not-inc':3, 'Self-emp-inc':4, 'Local-gov':5, 'Without-pay':6})\n",
    "df['marital_num'] = df['marital-status'].map({'Widowed':0, 'Divorced':1, 'Separated':2, 'Never-married':3, 'Married-civ-spouse':4, 'Married-AF-spouse':4, 'Married-spouse-absent':5})\n",
    "df['race_num'] = df.race.map({'White':0, 'Black':1, 'Asian-Pac-Islander':2, 'Amer-Indian-Eskimo':3, 'Other':4})\n",
    "df['rel_num'] = df.relationship.map({'Not-in-family':0, 'Unmarried':0, 'Own-child':0, 'Other-relative':0, 'Husband':1, 'Wife':1})\n",
    "\n",
    "df1 = df[['age', 'workclass_num', 'education-number', 'marital_num', 'race_num', 'sex_num', 'rel_num', 'capital-gain', 'capital-loss','Class']]\n",
    "\n",
    "\n",
    "# The first class is higher than 50k \n",
    "dfHigher50 = df1[df1.Class ==1]\n",
    "\n",
    "# The second class is lower than 50k\n",
    "dfLower50 =  df1[df1.Class ==-1]\n",
    "\n",
    "# we pick 50% of higher_than_50k for the train data\n",
    "dfHigher50Train = dfHigher50.sample(frac=0.5)\n",
    "\n",
    "# We pick 50% of lower_than_50k for the test data\n",
    "dfLower50Train = dfLower50.sample(frac=0.5)\n",
    "\n",
    "# To keep the data in balance\n",
    "dfLower50Train = dfLower50Train.sample(frac=0.3)\n",
    "\n",
    "# C1 is made up of 'rel_num' and 'education-number' from 50% of higher_than_50k\n",
    "C1 = np.array(dfHigher50Train.iloc[:,[2,6]], dtype=np.float32)\n",
    "N1= C1.shape[0]\n",
    "#print(N1)\n",
    "\n",
    "\n",
    "# C2 is made up of 'rel_num' and 'education-number' from 50% of lower_than_50k\n",
    "C2 = np.array(dfLower50Train.iloc[:,[2,6]], dtype=np.float32)\n",
    "N2 = C2.shape[0]\n",
    "#print(N2)\n",
    "\n",
    "N = N1+N2\n",
    "\n",
    "# We define the train data.\n",
    "XTrain =  np.vstack((C1, C2))\n",
    "#print(XTrain)\n",
    "\n",
    "\n",
    "# we pick 50% of higher_than_50k for test data\n",
    "dfHigher50Test = dfHigher50.sample(frac=0.5)\n",
    "\n",
    "# We pick 50# of lower_than_50k for test data\n",
    "dfLower50Test = dfLower50.sample(frac=0.5)\n",
    "\n",
    "# To keep the testing data in balance\n",
    "dfLower50Test = dfLower50Test.sample(frac=0.3)\n",
    "\n",
    "# C3 is made up of 'rel_num' and 'education-number' from 50% of higher_than_50k\n",
    "C3 = np.array(dfHigher50Test.iloc[:,[2,6]], dtype=np.float32)\n",
    "N3 = C3.shape[0]\n",
    "#print(N3)\n",
    "\n",
    "\n",
    "# C4 is made up of rel_num' and 'education-number' from 50% of higher_than_50k\n",
    "C4 = np.array(dfLower50Test.iloc[:,[2,6]], dtype=np.float32)\n",
    "N4 = C4.shape[0]\n",
    "#print(N4)\n",
    "\n",
    "N0 = N3+N4\n",
    "\n",
    "XTest = np.vstack((C3, C4))\n",
    "\n",
    "\n",
    "D1 = dfHigher50Test['Class'].values.reshape(-1,1)\n",
    "D2 = dfLower50Test['Class'].values.reshape(-1,1)\n",
    "\n",
    "Ytest = np.vstack((D1, D2))\n",
    "\n",
    "Ytest = np.array(Ytest)\n",
    "\n"
   ]
  },
  {
   "cell_type": "code",
   "execution_count": 5,
   "metadata": {},
   "outputs": [],
   "source": [
    "qda = qda()\n",
    "\n",
    "mu1q, mu2q, Sigma1q, Sigma2q, prior1q, prior2q = qda.train(XTrain, N1, N2, N)\n",
    "\n",
    "d1q = qda.use(XTest, mu1q, Sigma1q, prior1q)\n",
    "\n",
    "d2q = qda.use(XTest, mu2q, Sigma2q, prior2q)"
   ]
  },
  {
   "cell_type": "code",
   "execution_count": 6,
   "metadata": {},
   "outputs": [
    {
     "data": {
      "image/png": "[encoded data removed]",
      "text/plain": [
       "<matplotlib.figure.Figure at 0x106151f60>"
      ]
     },
     "metadata": {},
     "output_type": "display_data"
    }
   ],
   "source": [
    "d1q = d1q.reshape(-1,1)\n",
    "d2q = d2q.reshape(-1,1)\n",
    "dq =  np.hstack((d1q, d2q))\n",
    "dq = dq.max(axis=1)\n",
    "\n",
    "YPred = dq.reshape(-1,1)\n",
    "\n",
    "plt.figure(figsize=(6,6))\n",
    "plt.plot(YPred[0::50], label='Predict')\n",
    "plt.plot(Ytest[0::50], label='Target')\n",
    "plt.legend()\n",
    "plt.show()\n"
   ]
  },
  {
   "cell_type": "code",
   "execution_count": 7,
   "metadata": {},
   "outputs": [
    {
     "name": "stdout",
     "output_type": "stream",
     "text": [
      "0.501310959622\n"
     ]
    }
   ],
   "source": [
    "from sklearn.metrics import accuracy_score\n",
    "YPred = [int(item>-3) for  item in YPred]\n",
    "as2 = accuracy_score(Ytest, YPred)\n",
    "print(as2)"
   ]
  },
  {
   "cell_type": "markdown",
   "metadata": {},
   "source": [
    "## LDA Experiment"
   ]
  },
  {
   "cell_type": "markdown",
   "metadata": {},
   "source": [
    "We use the same data prepration as QDA"
   ]
  },
  {
   "cell_type": "code",
   "execution_count": 105,
   "metadata": {},
   "outputs": [],
   "source": [
    "lda = lda()\n",
    "\n",
    "mu1, mu2, Sigma, prior1, prior2 = lda.train(XTrain, N1, N2, N)\n",
    "\n",
    "d1 = lda.use(XTest, mu1, Sigma, prior1)\n",
    "d2 = lda.use(XTest, mu2, Sigma, prior2)\n"
   ]
  },
  {
   "cell_type": "code",
   "execution_count": 111,
   "metadata": {},
   "outputs": [
    {
     "data": {
      "image/png": "[encoded data removed]",
      "text/plain": [
       "<matplotlib.figure.Figure at 0x1171b76d8>"
      ]
     },
     "metadata": {},
     "output_type": "display_data"
    }
   ],
   "source": [
    "d1 = d1.reshape(-1,1)\n",
    "d2 = d2.reshape(-1,1)\n",
    "dq1 =  np.hstack((d1, d2))\n",
    "dq1 = dq1.max(axis=1)\n",
    "\n",
    "YPred1 = dq1.reshape(-1,1)\n",
    "\n",
    "plt.figure(figsize=(6,6))\n",
    "plt.plot(YPred1[0::50], label='Predict')\n",
    "plt.plot(Ytest[0::50], label='Target')\n",
    "plt.legend()\n",
    "plt.show()"
   ]
  },
  {
   "cell_type": "code",
   "execution_count": 107,
   "metadata": {},
   "outputs": [
    {
     "name": "stdout",
     "output_type": "stream",
     "text": [
      "0.513896171998\n"
     ]
    }
   ],
   "source": [
    "from sklearn.metrics import accuracy_score\n",
    "YPred1 = [int(item>-3) for  item in YPred1]\n",
    "as3 = accuracy_score(Ytest, YPred1)\n",
    "print(as3)"
   ]
  },
  {
   "cell_type": "markdown",
   "metadata": {},
   "source": [
    "## Logistic Regression Experiment"
   ]
  },
  {
   "cell_type": "code",
   "execution_count": 99,
   "metadata": {},
   "outputs": [],
   "source": [
    "# Define the Data for traing and testing.\n",
    "df = pd.read_csv(\"adult.csv\", names = [\"age\", \"workclass\", \"fnlwgt\", \"education\",\"education-number\", \"marital-status\", \"occupation\", \"relationship\", \"race\", \"sex\", \"capital-gain\", \"capital-loss\",\"hours-per-week\", \"native-country\", \"Class\" ], skipinitialspace=True, header=None)          \n",
    "\n",
    "# Set >50K as 1 and <=50K as 0\n",
    "df.loc[df['Class'].str.contains(\">50K\"), 'Class'] = 1\n",
    "df.loc[df['Class'].str.contains(\"<=50K\", na=False), 'Class'] = 0\n",
    "\n",
    "# Deal with the other category data.\n",
    "df['sex_num'] = np.where(df.sex == 'Female', 0, 1)\n",
    "df['workclass_num'] = df.workclass.map({'Private':0, 'State-gov':1, 'Federal-gov':2, 'Self-emp-not-inc':3, 'Self-emp-inc':4, 'Local-gov':5, 'Without-pay':6})\n",
    "df['marital_num'] = df['marital-status'].map({'Widowed':0, 'Divorced':1, 'Separated':2, 'Never-married':3, 'Married-civ-spouse':4, 'Married-AF-spouse':4, 'Married-spouse-absent':5})\n",
    "df['race_num'] = df.race.map({'White':0, 'Black':1, 'Asian-Pac-Islander':2, 'Amer-Indian-Eskimo':3, 'Other':4})\n",
    "df['rel_num'] = df.relationship.map({'Not-in-family':0, 'Unmarried':0, 'Own-child':0, 'Other-relative':0, 'Husband':1, 'Wife':1})\n",
    "\n",
    "df1 = df[['age', 'workclass_num', 'education-number', 'marital_num', 'race_num', 'sex_num', 'rel_num', 'capital-gain', 'capital-loss','Class']]\n",
    "\n",
    "\n",
    "# The first class is higher than 50k \n",
    "dfHigher50 = df1[df1.Class ==1]\n",
    "\n",
    "# The second class is lower than 50k\n",
    "dfLower50 =  df1[df1.Class ==0]\n",
    "\n",
    "# we pick 50% of higher_than_50k for the train data\n",
    "dfHigher50Train = dfHigher50.sample(frac=0.5)\n",
    "\n",
    "# We pick 50% of lower_than_50k for the test data\n",
    "dfLower50Train = dfLower50.sample(frac=0.5)\n",
    "\n",
    "# To keep the data in balance\n",
    "dfLower50Train = dfLower50Train.sample(frac=0.3)\n",
    "\n",
    "# C1 is made up of 'rel_num' and 'education-number' from 50% of higher_than_50k\n",
    "C1 = np.array(dfHigher50Train.iloc[:,[2,6]], dtype=np.float32)\n",
    "N1= C1.shape[0]\n",
    "#print(N1)\n",
    "\n",
    "\n",
    "# C2 is made up of 'rel_num' and 'education-number' from 50% of lower_than_50k\n",
    "C2 = np.array(dfLower50Train.iloc[:,[2,6]], dtype=np.float32)\n",
    "N2 = C2.shape[0]\n",
    "#print(N2)\n",
    "\n",
    "N = N1+N2\n",
    "\n",
    "# We define the train data.\n",
    "X_trainl =  np.vstack((C1, C2))\n",
    "#print(XTrain)\n",
    "\n",
    "\n",
    "# we pick 50% of higher_than_50k for test data\n",
    "dfHigher50Test = dfHigher50.sample(frac=0.5)\n",
    "\n",
    "# We pick 50# of lower_than_50k for test data\n",
    "dfLower50Test = dfLower50.sample(frac=0.5)\n",
    "\n",
    "# To keep the testing data in balance\n",
    "dfLower50Test = dfLower50Test.sample(frac=0.3)\n",
    "\n",
    "# C3 is made up of 'rel_num' and 'education-number' from 50% of higher_than_50k\n",
    "C3 = np.array(dfHigher50Test.iloc[:,[2,6]], dtype=np.float32)\n",
    "N3 = C3.shape[0]\n",
    "#print(N3)\n",
    "\n",
    "\n",
    "# C4 is made up of rel_num' and 'education-number' from 50% of higher_than_50k\n",
    "C4 = np.array(dfLower50Test.iloc[:,[2,6]], dtype=np.float32)\n",
    "N4 = C4.shape[0]\n",
    "#print(N4)\n",
    "\n",
    "N0 = N3+N4\n",
    "\n",
    "X_testl = np.vstack((C3, C4))\n",
    "\n",
    "\n",
    "# Train data\n",
    "D11 = dfHigher50Train['Class'].values.reshape(-1,1)\n",
    "F11 = D11.shape[0]\n",
    "#print(F11)\n",
    "D22 = dfLower50Train['Class'].values.reshape(-1,1)\n",
    "F22 = D22.shape[0]\n",
    "#print(F22)\n",
    "F=F11+F22\n",
    "#print(F)\n",
    "\n",
    "\n",
    "Y_trainl = np.zeros((F, 2))\n",
    "#print(Ttrain.shape)\n",
    "Y_trainl[:F11, 0] = 1\n",
    "Y_trainl[F11:, 1] = 1\n",
    "\n",
    "\n",
    "D1 = dfHigher50Test['Class'].values.reshape(-1,1)\n",
    "F1 = D1.shape[0]\n",
    "#print(F1)\n",
    "D2 = dfLower50Test['Class'].values.reshape(-1,1)\n",
    "F2 = D2.shape[0]\n",
    "#print(F2)\n",
    "\n",
    "Ft = F1+F2\n",
    "\n",
    "Y_testl = np.zeros((Ft, 2))\n",
    "\n",
    "Y_testl[:F1, 0] = 1\n",
    "Y_testl[F1:, 1] = 1\n"
   ]
  },
  {
   "cell_type": "code",
   "execution_count": 101,
   "metadata": {},
   "outputs": [],
   "source": [
    "lg = lg()\n",
    "lg.train(X_trainl, Y_trainl)\n",
    "ypred = lg.use(X_testl)\n"
   ]
  },
  {
   "cell_type": "code",
   "execution_count": 107,
   "metadata": {},
   "outputs": [
    {
     "data": {
      "image/png": "[encoded data removed]",
      "text/plain": [
       "<matplotlib.figure.Figure at 0x117f3d4e0>"
      ]
     },
     "metadata": {},
     "output_type": "display_data"
    },
    {
     "name": "stdout",
     "output_type": "stream",
     "text": [
      "Accuracy:  78.6051389617 %\n"
     ]
    }
   ],
   "source": [
    "# retrieve labels and plot\n",
    "#print(yprec)\n",
    "Yl = np.argmax(ypred,1)\n",
    "\n",
    "Tl = np.argmax(Y_testl, 1)\n",
    "\n",
    "plt.plot(Yl[0::50], label='Yl')\n",
    "plt.plot(Tl[0::50], label='Tl' )\n",
    "plt.legend()\n",
    "plt.show()\n",
    "\n",
    "print(\"Accuracy: \", 100 - np.mean(np.abs(Tl - Yl)) * 100, \"%\")"
   ]
  },
  {
   "cell_type": "markdown",
   "metadata": {},
   "source": [
    "## Discussion about evaluation metrics\n",
    "\n",
    "- In this task, I mainly use accuracy_score from sklearn.metrics, accuracy algorithm learnt from logistic regression in our class as evaluation metrics. Moreover, I also plot the predic values and the true values to have a more vivid view.\n",
    "\n",
    "- In pocket, qda, lda I use accuracy_score from sklearn.metrics as evaluation metrics, that is to compare the value between the predic value and the target value, in logistic regression, I use the accuracy algorithm given by our machine learning class, this metrics also aims to compare the predic value and the target value. \n"
   ]
  },
  {
   "cell_type": "markdown",
   "metadata": {},
   "source": [
    "## Discussion about train and test accuracies\n",
    "\n",
    "- In order to make the prediction more accurate, I make balance data for the models that is sensitive to data imbalance.\n",
    "\n",
    "- In order to keep consistent with what we have learnt in class, I pick two features for trainging and testing. Obviously, if picking more related value into training and testing, the predict accuracy will become higher.\n",
    "\n",
    "- In the cridit part, I tried to use KFold from sklearn.cross_validation, and by train and test 5 times, which can effectively mediate the model unstable problems, by choosing the mean value of the precision score, we have a more stable result."
   ]
  },
  {
   "cell_type": "markdown",
   "metadata": {},
   "source": [
    "## Discussions about classificaion model comparison"
   ]
  },
  {
   "cell_type": "markdown",
   "metadata": {},
   "source": [
    "- The linear coefficients are estimated differently, maximum likelihood estimation for logistic models and estimated mean and variance based on Gaussian assumptions for the LDA.  \n",
    "\n",
    "- LDA makes more restrictive Gaussian assumptions and therefore expected to work better than logistic models if the assumptions are met. \n",
    "\n",
    "- QDA assumes a quadratic decision boundary, it can accurately model a wider range of problems than can the linear methods. \n",
    "\n",
    "- The logistic regression uses a logistic function and the perceptron(pocket) uses a step function."
   ]
  },
  {
   "cell_type": "markdown",
   "metadata": {},
   "source": [
    "# Conclusions\n",
    "\n",
    "- Summarize your work here. \n",
    "\n",
    "In this assignment, I have practice on the four classification algorithms, pocket, QDA, LDA and Logistic Regression. from this assignment, I have gained deep understand on these algorithms.\n",
    "\n",
    "- Which classifier do you think the best? \n",
    "\n",
    "I think logistic regression is best, which is widely used in classification.\n",
    "\n",
    "- Discuss the challenges or somethat that you learned. \n",
    "\n",
    "I have learnt how to get the proper train data, and I have deeper understanding on the four classification model.\n",
    "\n",
    "- If you have any suggestion about the assignment, you can write about it. "
   ]
  },
  {
   "cell_type": "markdown",
   "metadata": {},
   "source": [
    "# References\n",
    "\n",
    "List all your references here:\n",
    "\n",
    "https://www.kaggle.com/huyqtran/qda-lr-svm-for-fraud-detection\n",
    "\n",
    "https://www.kaggle.com/kazimanil/adult-census-income-classification\n",
    "\n",
    "http://uc-r.github.io/discriminant_analysis\n",
    "\n",
    "https://stackoverflow.com/questions/13148429/how-to-change-the-order-of-dataframe-columns\n",
    "\n",
    "https://www.jianshu.com/p/67db19e6a52b\n",
    "\n",
    "https://docs.scipy.org/doc/numpy/reference/generated/numpy.reshape.html\n",
    "\n",
    "https://datascienceplus.com/how-to-perform-logistic-regression-lda-qda-in-r/\n",
    "\n",
    "https://onlinecourses.science.psu.edu/stat857/node/80/\n",
    "\n",
    "https://chrisalbon.com/python/data_wrangling/pandas_replace_values/"
   ]
  },
  {
   "cell_type": "markdown",
   "metadata": {},
   "source": [
    "# Extra Credit\n",
    "\n",
    "* [OPT 1] Search for a ordinal data set and apply your classifiers to it. \n",
    "  - Repeat the experiments on it. \n",
    "  - Do you have different observation from previous results? \n",
    "  - Were you able to observe that we discussed in class about logistic regression? \n",
    "  - For a full extra credit point, you need to discuss all bullet points in Results section.     \n",
    "\n",
    "\n",
    "* [OPT 2] Partition your data into five sets. Selecting one test set and the other for training, repeat your experiments and observe/analyze the 5 different training/testing errors.  "
   ]
  },
  {
   "cell_type": "markdown",
   "metadata": {},
   "source": [
    "[OPT 2] Partition your data into five sets. Selecting one test set and the other for training, repeat your experiments and observe/analyze the 5 different training/testing errors. \n",
    "\n",
    "I use 'Pocket model' to finish this task. \n",
    "\n",
    "Because the original dataset is huge, and traing/testing takes a lot of time, so I just choose randomly one third of the original data, therefor, the number of instance for this task is 9768.\n",
    "\n",
    "Please refer the result below:\n",
    "\n",
    "- Fold 1 accuracy: 0.7676560900716479\n",
    "- Fold 2 accuracy: 0.7927328556806551\n",
    "- Fold 3 accuracy: 0.7584442169907881\n",
    "- Fold 4 accuracy: 0.7680491551459293\n",
    "- Fold 5 accuracy: 0.8182283666154634\n",
    "- Mean Accuracy: 0.7810221369008967"
   ]
  },
  {
   "cell_type": "code",
   "execution_count": 8,
   "metadata": {},
   "outputs": [],
   "source": [
    "df = pd.read_csv(\"adult.csv\", names = [\"age\", \"workclass\", \"fnlwgt\", \"education\",\"education-number\", \"marital-status\", \"occupation\", \"relationship\", \"race\", \"sex\", \"capital-gain\", \"capital-loss\",\"hours-per-week\", \"native-country\", \"Class\" ], skipinitialspace=True, header=None)          \n",
    "\n",
    "# Set >50K as 1 and <=50K as -1\n",
    "df.loc[df['Class'].str.contains(\">50K\"), 'Class'] = 1\n",
    "df.loc[df['Class'].str.contains(\"<=50K\", na=False), 'Class'] = -1\n",
    "\n",
    "df['sex_num'] = np.where(df.sex == 'Female', 0, 1)\n",
    "df['workclass_num'] = df.workclass.map({'Private':0, 'State-gov':1, 'Federal-gov':2, 'Self-emp-not-inc':3, 'Self-emp-inc':4, 'Local-gov':5, 'Without-pay':6})\n",
    "df['marital_num'] = df['marital-status'].map({'Widowed':0, 'Divorced':1, 'Separated':2, 'Never-married':3, 'Married-civ-spouse':4, 'Married-AF-spouse':4, 'Married-spouse-absent':5})\n",
    "df['race_num'] = df.race.map({'White':0, 'Black':1, 'Asian-Pac-Islander':2, 'Amer-Indian-Eskimo':3, 'Other':4})\n",
    "df['rel_num'] = df.relationship.map({'Not-in-family':0, 'Unmarried':0, 'Own-child':0, 'Other-relative':0, 'Husband':1, 'Wife':1})\n",
    "#print(df.head())\n",
    "\n",
    "# Because the training takes a lot of time, so pick 30% of the data\n",
    "\n",
    "df = df.sample(frac=0.3)\n",
    "\n",
    "# Define the Data for traing and testing.\n",
    "X1 = df[['age', 'workclass_num', 'education-number', 'marital_num', 'race_num', 'sex_num', 'rel_num', 'capital-gain', 'capital-loss']]\n",
    "\n",
    "y1 = df.Class"
   ]
  },
  {
   "cell_type": "code",
   "execution_count": 9,
   "metadata": {},
   "outputs": [
    {
     "name": "stdout",
     "output_type": "stream",
     "text": [
      "(9768, 2)\n"
     ]
    }
   ],
   "source": [
    "X2 = df[['education-number', 'rel_num']]\n",
    "print(X2.shape)\n",
    "# Define y_trainP as train y of pocket algorithms experiment.\n",
    "y2 = y1"
   ]
  },
  {
   "cell_type": "code",
   "execution_count": 10,
   "metadata": {},
   "outputs": [
    {
     "name": "stderr",
     "output_type": "stream",
     "text": [
      "/Library/Frameworks/Python.framework/Versions/3.6/lib/python3.6/site-packages/sklearn/cross_validation.py:41: DeprecationWarning: This module was deprecated in version 0.18 in favor of the model_selection module into which all the refactored classes and functions are moved. Also note that the interface of the new CV iterators are different from that of this module. This module will be removed in 0.20.\n",
      "  \"This module will be removed in 0.20.\", DeprecationWarning)\n"
     ]
    }
   ],
   "source": [
    "from sklearn.cross_validation import KFold\n",
    "from sklearn.metrics import accuracy_score\n",
    "\n",
    "def run_kfold(model):\n",
    "    kf = KFold(9768, n_folds=5)\n",
    "    outcomes = []\n",
    "    fold = 0\n",
    "    for train_index, test_index in kf:\n",
    "        fold += 1\n",
    "        X_train, X_test = X2.values[train_index], X2.values[test_index]\n",
    "        y_train, y_test = y2.values[train_index], y2.values[test_index]\n",
    "        model.train(X_train, y_train)\n",
    "        predictions = model.use(X_test)\n",
    "        accuracy = accuracy_score(y_test, predictions)\n",
    "        outcomes.append(accuracy)\n",
    "        print(\"Fold {0} accuracy: {1}\".format(fold, accuracy))     \n",
    "    mean_outcome = np.mean(outcomes)\n",
    "    print(\"Mean Accuracy: {0}\".format(mean_outcome)) \n"
   ]
  },
  {
   "cell_type": "code",
   "execution_count": 13,
   "metadata": {},
   "outputs": [
    {
     "name": "stdout",
     "output_type": "stream",
     "text": [
      "Fold 1 accuracy: 0.7676560900716479\n",
      "Fold 2 accuracy: 0.7927328556806551\n",
      "Fold 3 accuracy: 0.7584442169907881\n",
      "Fold 4 accuracy: 0.7680491551459293\n",
      "Fold 5 accuracy: 0.8182283666154634\n",
      "Mean Accuracy: 0.7810221369008967\n"
     ]
    }
   ],
   "source": [
    "pc1 = Pocket()\n",
    "run_kfold(pc1)"
   ]
  },
  {
   "cell_type": "markdown",
   "metadata": {},
   "source": [
    "## Grading\n",
    "\n",
    "DO NOT forget to submit your data! Your notebook is supposed to run well after running your codes.\n",
    "\n",
    "To help our TA's grading, please make an explicit section for each grading criteria. \n",
    "Again, this is a **writing assignment**. Please don't forget to properly explain your codes and results using Markdown cell. \n",
    "\n",
    "\n",
    "points | | description\n",
    "--|--|:--\n",
    "5 | Overview| states the objective and the appraoch \n",
    "15 | Data | \n",
    " | 5| description \n",
    " | 5| plots for understanding or analysis \n",
    " | 5| preliminary observation \n",
    "25 | Methods | \n",
    " |10| Summary of Classification models\n",
    " | 5| Explanation of codes\n",
    " |10| Pocket, LDA, QDA, Logistic Regression\n",
    "40 | Experiments \n",
    "| 5| Discussion about evaluation metrics\n",
    "| 5| Discussion about train and test accuracies\n",
    "|20| plots for results (5 for each algorithm)\n",
    "|10| Discussions about classificaion model comparison\n",
    "5 | |Conclusions \n",
    "5 | |Referemces\n",
    "5 | |Grammar and spelling error (Proofread please)"
   ]
  },
  {
   "cell_type": "code",
   "execution_count": null,
   "metadata": {
    "collapsed": true
   },
   "outputs": [],
   "source": []
  }
 ],
 "metadata": {
  "kernelspec": {
   "display_name": "Python 3",
   "language": "python",
   "name": "python3"
  },
  "language_info": {
   "codemirror_mode": {
    "name": "ipython",
    "version": 3
   },
   "file_extension": ".py",
   "mimetype": "text/x-python",
   "name": "python",
   "nbconvert_exporter": "python",
   "pygments_lexer": "ipython3",
   "version": "3.6.3"
  }
 },
 "nbformat": 4,
 "nbformat_minor": 2
}
